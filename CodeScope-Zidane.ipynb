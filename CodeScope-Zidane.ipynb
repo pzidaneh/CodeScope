{
 "cells": [
  {
   "cell_type": "code",
   "execution_count": 1,
   "id": "0f226455",
   "metadata": {},
   "outputs": [
    {
     "name": "stdout",
     "output_type": "stream",
     "text": [
      "Wall time: 33 ms\n"
     ]
    }
   ],
   "source": [
    "%%time\n",
    "import tkinter as tk\n",
    "import ast"
   ]
  },
  {
   "cell_type": "code",
   "execution_count": 2,
   "id": "05499e8b",
   "metadata": {},
   "outputs": [
    {
     "name": "stdout",
     "output_type": "stream",
     "text": [
      "['__class__', '__delattr__', '__dict__', '__dir__', '__doc__', '__eq__', '__format__', '__ge__', '__getattribute__', '__gt__', '__hash__', '__init__', '__init_subclass__', '__le__', '__lt__', '__module__', '__ne__', '__new__', '__reduce__', '__reduce_ex__', '__repr__', '__setattr__', '__sizeof__', '__str__', '__subclasshook__', '__weakref__', '_attributes', '_fields', 'col_offset', 'end_col_offset', 'end_lineno', 'lineno', 'value']\n"
     ]
    }
   ],
   "source": [
    "print(dir([i for i in ast.iter_child_nodes(ast.parse(\"print('hello world')\"))][0]))"
   ]
  },
  {
   "cell_type": "code",
   "execution_count": 3,
   "id": "51ee58a9",
   "metadata": {},
   "outputs": [
    {
     "data": {
      "text/plain": [
       "('value',)"
      ]
     },
     "execution_count": 3,
     "metadata": {},
     "output_type": "execute_result"
    }
   ],
   "source": [
    "[i for i in ast.iter_child_nodes(ast.parse(\"print('hello world')\"))][0]._fields"
   ]
  },
  {
   "cell_type": "code",
   "execution_count": 4,
   "id": "9ea8a241",
   "metadata": {},
   "outputs": [],
   "source": [
    "class ClassDiagram:\n",
    "    def __init__(self, master, code):\n",
    "        self.master = master\n",
    "        self.canvas = tk.Canvas(self.master, width=1920, height=1080)\n",
    "        self.canvas.pack()\n",
    "\n",
    "        self.draw_diagram(code)\n",
    "\n",
    "    def add_circle(self):\n",
    "        x = self.x\n",
    "        y = self.y\n",
    "        \n",
    "        self.canvas.create_oval(x, y, x + 50, y + 50, fill=\"pink\")\n",
    "    \n",
    "    def add_oval(self):\n",
    "        x = self.x\n",
    "        y = self.y\n",
    "        self.canvas.create_oval(x, y, x + 50, y + 50, fill=\"lightgreen\")\n",
    "        \n",
    "    def add_label(self, label_type, node_object):\n",
    "        x = self.x\n",
    "        y = self.y\n",
    "        \n",
    "        if label_type == \"class\":\n",
    "            self.canvas.create_text(x + 100, y + 25, text=node_object.name, font=(\"Arial\", 14))\n",
    "            \n",
    "        elif label_type == \"method\":\n",
    "            self.canvas.create_text(x + 25, y + 25, text=node_object.name, font=(\"Arial\", 14))\n",
    "        \n",
    "        elif label_type == \"assign\":\n",
    "            self.canvas.create_text(x + 25, y + 25, text=f\"{node_object.targets[0].id} = {node_object.value}\", font=(\"Arial\", 14))\n",
    "        \n",
    "        elif label_type == \"expression\":\n",
    "            self.canvas.create_text(x + 25, y + 25, text=f\"{node_object.value}\", font=(\"Arial\", 14))\n",
    "            \n",
    "    def add_line(self):\n",
    "        x = self.x\n",
    "        y = self.y\n",
    "        self.canvas.create_line(x + 100, y + 25, x + 25, y + 25)\n",
    "        \n",
    "    def add_rectangle(self):\n",
    "        x = self.x\n",
    "        y = self.y\n",
    "        self.canvas.create_rectangle(x, y, x + 200, y + 50, fill=\"lightblue\")\n",
    "    \n",
    "    def draw_diagram(self, code):\n",
    "        # Parse the code using the ast module\n",
    "        root = ast.parse(code)\n",
    "        self.root = root\n",
    "\n",
    "        # Iterate through the AST nodes and draw the diagram elements\n",
    "        self.x, self.y = 50, 50\n",
    "        \n",
    "        for node in ast.iter_child_nodes(root):\n",
    "            print(node)\n",
    "            print(dir(node))\n",
    "            print()\n",
    "            \n",
    "            if isinstance(node, ast.ClassDef):\n",
    "                # Draw a parallelogram for the class\n",
    "                self.add_rectangle()\n",
    "                \n",
    "                # Add a label for the class name\n",
    "                self.add_label(\"class\", node)\n",
    "                \n",
    "                # Iterate through the class body and draw the methods and variables\n",
    "                self.x +=  50\n",
    "                self.y += 100\n",
    "                \n",
    "                for body_node in node.body:\n",
    "                    print(body_node)\n",
    "                    print(dir(body_node))\n",
    "                    print()\n",
    "                    \n",
    "                    if isinstance(body_node, ast.FunctionDef):\n",
    "                        # Draw a circle for the method\n",
    "                        self.add_circle()\n",
    "\n",
    "                        # Add a label for the method name\n",
    "                        self.add_label(\"method\", body_node)\n",
    "\n",
    "                        # Use a line to connect the class to the method\n",
    "                        self.add_line()\n",
    "                        \n",
    "                        \n",
    "                    elif isinstance(body_node, ast.Assign):\n",
    "                        # Draw a circle for the variable\n",
    "                        self.add_circle()\n",
    "\n",
    "                        # Add a label for the variable name and value\n",
    "                        self.add_label(\"assign\", body_node)\n",
    "\n",
    "                        # Use a line to connect the class to the variable\n",
    "                        self.add_line()\n",
    "                        \n",
    "                    \n",
    "                    elif isinstance(body_node, ast.Expr):\n",
    "                        #print(body_node)\n",
    "                        # Draw a circle for the expression\n",
    "                        self.add_circle()\n",
    "\n",
    "                        # Add a label for the variable name and value\n",
    "                        self.add_label(\"expression\", body_node)\n",
    "\n",
    "                        # Use a line to connect the class to the variable\n",
    "                        self.add_line()\n",
    "                        \n",
    "                    \n",
    "                    self.y += 100\n",
    "                        \n",
    "                self.x  =  50\n",
    "                self.y += 100\n",
    "\n",
    "def visualize_code(code):\n",
    "    root = tk.Tk()\n",
    "    app = ClassDiagram(root, code)\n",
    "    #print(app.root)\n",
    "    root.mainloop()"
   ]
  },
  {
   "cell_type": "code",
   "execution_count": 5,
   "id": "f93c715d",
   "metadata": {},
   "outputs": [
    {
     "name": "stdout",
     "output_type": "stream",
     "text": [
      "<ast.ClassDef object at 0x000001C026E21FA0>\n",
      "['__class__', '__delattr__', '__dict__', '__dir__', '__doc__', '__eq__', '__format__', '__ge__', '__getattribute__', '__gt__', '__hash__', '__init__', '__init_subclass__', '__le__', '__lt__', '__module__', '__ne__', '__new__', '__reduce__', '__reduce_ex__', '__repr__', '__setattr__', '__sizeof__', '__str__', '__subclasshook__', '__weakref__', '_attributes', '_fields', 'bases', 'body', 'col_offset', 'decorator_list', 'end_col_offset', 'end_lineno', 'keywords', 'lineno', 'name']\n",
      "\n",
      "<ast.FunctionDef object at 0x000001C026E21F70>\n",
      "['__class__', '__delattr__', '__dict__', '__dir__', '__doc__', '__eq__', '__format__', '__ge__', '__getattribute__', '__gt__', '__hash__', '__init__', '__init_subclass__', '__le__', '__lt__', '__module__', '__ne__', '__new__', '__reduce__', '__reduce_ex__', '__repr__', '__setattr__', '__sizeof__', '__str__', '__subclasshook__', '__weakref__', '_attributes', '_fields', 'args', 'body', 'col_offset', 'decorator_list', 'end_col_offset', 'end_lineno', 'lineno', 'name', 'returns', 'type_comment']\n",
      "\n",
      "<ast.Assign object at 0x000001C026E21D00>\n",
      "['__class__', '__delattr__', '__dict__', '__dir__', '__doc__', '__eq__', '__format__', '__ge__', '__getattribute__', '__gt__', '__hash__', '__init__', '__init_subclass__', '__le__', '__lt__', '__module__', '__ne__', '__new__', '__reduce__', '__reduce_ex__', '__repr__', '__setattr__', '__sizeof__', '__str__', '__subclasshook__', '__weakref__', '_attributes', '_fields', 'col_offset', 'end_col_offset', 'end_lineno', 'lineno', 'targets', 'type_comment', 'value']\n",
      "\n",
      "<ast.ClassDef object at 0x000001C026E21C70>\n",
      "['__class__', '__delattr__', '__dict__', '__dir__', '__doc__', '__eq__', '__format__', '__ge__', '__getattribute__', '__gt__', '__hash__', '__init__', '__init_subclass__', '__le__', '__lt__', '__module__', '__ne__', '__new__', '__reduce__', '__reduce_ex__', '__repr__', '__setattr__', '__sizeof__', '__str__', '__subclasshook__', '__weakref__', '_attributes', '_fields', 'bases', 'body', 'col_offset', 'decorator_list', 'end_col_offset', 'end_lineno', 'keywords', 'lineno', 'name']\n",
      "\n",
      "<ast.FunctionDef object at 0x000001C026E21C40>\n",
      "['__class__', '__delattr__', '__dict__', '__dir__', '__doc__', '__eq__', '__format__', '__ge__', '__getattribute__', '__gt__', '__hash__', '__init__', '__init_subclass__', '__le__', '__lt__', '__module__', '__ne__', '__new__', '__reduce__', '__reduce_ex__', '__repr__', '__setattr__', '__sizeof__', '__str__', '__subclasshook__', '__weakref__', '_attributes', '_fields', 'args', 'body', 'col_offset', 'decorator_list', 'end_col_offset', 'end_lineno', 'lineno', 'name', 'returns', 'type_comment']\n",
      "\n",
      "<ast.Assign object at 0x000001C026E21A90>\n",
      "['__class__', '__delattr__', '__dict__', '__dir__', '__doc__', '__eq__', '__format__', '__ge__', '__getattribute__', '__gt__', '__hash__', '__init__', '__init_subclass__', '__le__', '__lt__', '__module__', '__ne__', '__new__', '__reduce__', '__reduce_ex__', '__repr__', '__setattr__', '__sizeof__', '__str__', '__subclasshook__', '__weakref__', '_attributes', '_fields', 'col_offset', 'end_col_offset', 'end_lineno', 'lineno', 'targets', 'type_comment', 'value']\n",
      "\n",
      "<ast.Expr object at 0x000001C026E21A00>\n",
      "['__class__', '__delattr__', '__dict__', '__dir__', '__doc__', '__eq__', '__format__', '__ge__', '__getattribute__', '__gt__', '__hash__', '__init__', '__init_subclass__', '__le__', '__lt__', '__module__', '__ne__', '__new__', '__reduce__', '__reduce_ex__', '__repr__', '__setattr__', '__sizeof__', '__str__', '__subclasshook__', '__weakref__', '_attributes', '_fields', 'col_offset', 'end_col_offset', 'end_lineno', 'lineno', 'value']\n",
      "\n",
      "<ast.Expr object at 0x000001C026E21910>\n",
      "['__class__', '__delattr__', '__dict__', '__dir__', '__doc__', '__eq__', '__format__', '__ge__', '__getattribute__', '__gt__', '__hash__', '__init__', '__init_subclass__', '__le__', '__lt__', '__module__', '__ne__', '__new__', '__reduce__', '__reduce_ex__', '__repr__', '__setattr__', '__sizeof__', '__str__', '__subclasshook__', '__weakref__', '_attributes', '_fields', 'col_offset', 'end_col_offset', 'end_lineno', 'lineno', 'value']\n",
      "\n",
      "Wall time: 2min 53s\n"
     ]
    }
   ],
   "source": [
    "%%time\n",
    "\n",
    "# Test the function with some sample code\n",
    "code = \"\"\"\n",
    "class Hemang:\n",
    "    def my_method():\n",
    "        self.x = 5\n",
    "        print(\"hello world\")\n",
    "        pass\n",
    "\n",
    "my_var2 = 5\n",
    "class Hemang2:\n",
    "    def my_method321():\n",
    "        print('hi')\n",
    "        pass\n",
    "\n",
    "    my_var = 5\n",
    "    print('hi')\n",
    "\n",
    "print(\"hello world\")\n",
    "\"\"\"\n",
    "\n",
    "visualize_code(code)"
   ]
  }
 ],
 "metadata": {
  "kernelspec": {
   "display_name": "Python 3 (ipykernel)",
   "language": "python",
   "name": "python3"
  },
  "language_info": {
   "codemirror_mode": {
    "name": "ipython",
    "version": 3
   },
   "file_extension": ".py",
   "mimetype": "text/x-python",
   "name": "python",
   "nbconvert_exporter": "python",
   "pygments_lexer": "ipython3",
   "version": "3.9.5"
  }
 },
 "nbformat": 4,
 "nbformat_minor": 5
}
